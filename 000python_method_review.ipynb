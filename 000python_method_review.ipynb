{
 "cells": [
  {
   "cell_type": "markdown",
   "metadata": {},
   "source": [
    "## Class "
   ]
  },
  {
   "cell_type": "code",
   "execution_count": 39,
   "metadata": {},
   "outputs": [
    {
     "name": "stdout",
     "output_type": "stream",
     "text": [
      "test spam\n",
      "test spam\n",
      "test spam\n",
      "global spam\n"
     ]
    }
   ],
   "source": [
    "def scope_test():\n",
    "    def do_local():\n",
    "        spam = \"local spam\"\n",
    "\n",
    "    def do_nonlocal():\n",
    "        spam = \"nonlocal spam\"\n",
    "    \n",
    "    def do_global():\n",
    "        global spam\n",
    "        spam = \"global spam\"\n",
    "    \n",
    "    spam = \"test spam\"\n",
    "    do_local()\n",
    "    print(spam)\n",
    "    do_nonlocal()\n",
    "    print(spam)\n",
    "    do_global()\n",
    "    print(spam)\n",
    "\n",
    "scope_test()\n",
    "print(spam)"
   ]
  },
  {
   "cell_type": "code",
   "execution_count": 40,
   "metadata": {},
   "outputs": [
    {
     "data": {
      "text/plain": [
       "<__main__.Myclass at 0x7f1deee2a290>"
      ]
     },
     "execution_count": 40,
     "metadata": {},
     "output_type": "execute_result"
    }
   ],
   "source": [
    "class Myclass:\n",
    "    i = 12345\n",
    "    \n",
    "    def f(self):\n",
    "        return \"hello\"\n",
    "Myclass()"
   ]
  },
  {
   "cell_type": "code",
   "execution_count": 41,
   "metadata": {},
   "outputs": [
    {
     "data": {
      "text/plain": [
       "0"
      ]
     },
     "execution_count": 41,
     "metadata": {},
     "output_type": "execute_result"
    }
   ],
   "source": [
    "class Myclass:\n",
    "    i = 12345\n",
    "    \n",
    "    def __init__(self) -> None:\n",
    "        self.data = []\n",
    "\n",
    "    def f(self):\n",
    "        return \"hello\"\n",
    "Myclass()\n",
    "len(Myclass().data)"
   ]
  },
  {
   "cell_type": "code",
   "execution_count": 42,
   "metadata": {},
   "outputs": [
    {
     "name": "stdout",
     "output_type": "stream",
     "text": [
      "3.0 : -4.5\n"
     ]
    }
   ],
   "source": [
    "class Complex:\n",
    "    def __init__(self, real, image):\n",
    "        self.r, self.i = real, image\n",
    "\n",
    "    def complex(self):\n",
    "        print(str(self.r) + \" : \" + str(self.i))\n",
    "x = Complex(3.0, -4.5)\n",
    "x.complex()"
   ]
  },
  {
   "cell_type": "code",
   "execution_count": 43,
   "metadata": {},
   "outputs": [
    {
     "name": "stdout",
     "output_type": "stream",
     "text": [
      "16\n"
     ]
    }
   ],
   "source": [
    "x.counter = 1\n",
    "while x.counter < 10:\n",
    "    x.counter = x.counter * 2\n",
    "print(x.counter)\n",
    "del x.counter"
   ]
  },
  {
   "cell_type": "code",
   "execution_count": 44,
   "metadata": {},
   "outputs": [
    {
     "data": {
      "text/plain": [
       "'hello'"
      ]
     },
     "execution_count": 44,
     "metadata": {},
     "output_type": "execute_result"
    }
   ],
   "source": [
    "x = Myclass()\n",
    "x.f()"
   ]
  },
  {
   "cell_type": "code",
   "execution_count": 45,
   "metadata": {},
   "outputs": [
    {
     "name": "stdout",
     "output_type": "stream",
     "text": [
      "hello\n"
     ]
    }
   ],
   "source": [
    "xf = x.f\n",
    "tag = True\n",
    "while tag:\n",
    "    print(xf())\n",
    "    import time \n",
    "    time.sleep(1)\n",
    "    tag = False"
   ]
  },
  {
   "cell_type": "code",
   "execution_count": 46,
   "metadata": {},
   "outputs": [
    {
     "data": {
      "text/plain": [
       "('canine', 'canine', 'Fido', 'Buddy', ['roll over'], ['play dead'])"
      ]
     },
     "execution_count": 46,
     "metadata": {},
     "output_type": "execute_result"
    }
   ],
   "source": [
    "class Dog:\n",
    "    \n",
    "    kind = 'canine'\n",
    "\n",
    "    def __init__(self, name) -> None:\n",
    "        self.name = name\n",
    "        self.tricks = []\n",
    "\n",
    "    def add_trick(self, trick):\n",
    "        self.tricks.append(trick)\n",
    "d = Dog('Fido')\n",
    "e = Dog('Buddy')\n",
    "d.add_trick('roll over')\n",
    "e.add_trick('play dead')\n",
    "d.kind, e.kind, d.name, e.name, d.tricks, e.tricks"
   ]
  },
  {
   "cell_type": "code",
   "execution_count": 47,
   "metadata": {},
   "outputs": [
    {
     "data": {
      "text/plain": [
       "['Charge', 'Shutdown']"
      ]
     },
     "execution_count": 47,
     "metadata": {},
     "output_type": "execute_result"
    }
   ],
   "source": [
    "class RobotDog(Dog):\n",
    "    def __init__(self, name) -> None:\n",
    "        super().__init__(name)\n",
    "        self.add_trick(\"Charge\")\n",
    "        self.add_trick(\"Shutdown\")\n",
    "Rdog = RobotDog(\"RobotDog\")\n",
    "Rdog.tricks"
   ]
  },
  {
   "cell_type": "code",
   "execution_count": 48,
   "metadata": {},
   "outputs": [
    {
     "data": {
      "text/plain": [
       "True"
      ]
     },
     "execution_count": 48,
     "metadata": {},
     "output_type": "execute_result"
    }
   ],
   "source": [
    "isinstance(Rdog, Dog)"
   ]
  },
  {
   "cell_type": "code",
   "execution_count": 49,
   "metadata": {},
   "outputs": [
    {
     "data": {
      "text/plain": [
       "True"
      ]
     },
     "execution_count": 49,
     "metadata": {},
     "output_type": "execute_result"
    }
   ],
   "source": [
    "issubclass(RobotDog, Dog)"
   ]
  },
  {
   "cell_type": "code",
   "execution_count": 50,
   "metadata": {},
   "outputs": [],
   "source": [
    "class Mapping:\n",
    "    def __init__(self, iterable):\n",
    "        self.item_list = []\n",
    "        self.__update(iterable)\n",
    "    \n",
    "    def update(self, iterable):\n",
    "        for item in iterable:\n",
    "            self.item_list.append(item)\n",
    "    \n",
    "    __update = update\n",
    "\n",
    "class MappingSubclass(Mapping):\n",
    "    def update(self, keys, values):\n",
    "        for item in zip(keys, values):\n",
    "            self.item_list.append(item)"
   ]
  },
  {
   "cell_type": "code",
   "execution_count": 51,
   "metadata": {},
   "outputs": [
    {
     "data": {
      "text/plain": [
       "[1, 2, 3, 4, 5, 6, 7, 8, 9, 0]"
      ]
     },
     "execution_count": 51,
     "metadata": {},
     "output_type": "execute_result"
    }
   ],
   "source": [
    "l1 = [1, 2, 3, 4, 5]\n",
    "l2 = [6, 7, 8, 9, 0]\n",
    "m = Mapping(l1)\n",
    "m.update(l2)\n",
    "m.item_list"
   ]
  },
  {
   "cell_type": "code",
   "execution_count": 52,
   "metadata": {},
   "outputs": [
    {
     "data": {
      "text/plain": [
       "[1, 2, 3, 4, 5, (1, 6), (2, 7), (3, 8), (4, 9), (5, 0)]"
      ]
     },
     "execution_count": 52,
     "metadata": {},
     "output_type": "execute_result"
    }
   ],
   "source": [
    "msc = MappingSubclass(l1)\n",
    "msc.update(l1, l2)\n",
    "msc.item_list"
   ]
  },
  {
   "cell_type": "code",
   "execution_count": 53,
   "metadata": {},
   "outputs": [],
   "source": [
    "from dataclasses import dataclass\n",
    "\n",
    "@dataclass\n",
    "class Employee:\n",
    "    name: str\n",
    "    dept: str\n",
    "    salary: int"
   ]
  },
  {
   "cell_type": "code",
   "execution_count": 54,
   "metadata": {},
   "outputs": [
    {
     "data": {
      "text/plain": [
       "('Jeff', 'Computer lab', 1000)"
      ]
     },
     "execution_count": 54,
     "metadata": {},
     "output_type": "execute_result"
    }
   ],
   "source": [
    "jeff = Employee('Jeff', 'Computer lab', 1000)\n",
    "jeff.name, jeff.dept, jeff.salary"
   ]
  },
  {
   "cell_type": "code",
   "execution_count": 55,
   "metadata": {},
   "outputs": [
    {
     "name": "stdout",
     "output_type": "stream",
     "text": [
      "1\n",
      "2\n",
      "3\n",
      "1\n",
      "2\n",
      "3\n",
      "one\n",
      "two\n",
      "1\n",
      "2\n",
      "3\n",
      "4.4720,2.3270,1\n",
      "2.9668,2.6252,1\n",
      "2.2212,3.1693,0\n",
      "1.4587,1.9728,1\n",
      "0.3717,3.0804,0\n",
      "2.2861,3.0933,0\n",
      "3.6493,0.9120,1\n",
      "1.7738,4.1476,0\n",
      "2.8326,0.8275,1\n",
      "3.3727,0.0197,1\n",
      "3.1267,2.4699,1\n",
      "3.2341,0.5717,1\n",
      "2.9559,0.3611,1\n",
      "1.5953,2.5202,0\n",
      "3.1068,3.8364,0\n",
      "0.9145,3.5424,0\n",
      "2.2294,3.9528,0\n",
      "1.8832,1.2272,1\n",
      "4.0570,1.1250,1\n",
      "4.7596,0.2045,1\n",
      "-0.7081,2.1968,0\n",
      "2.5298,1.5368,1\n",
      "0.9669,1.7989,0\n",
      "4.0843,-0.1267,1\n",
      "2.9657,2.6145,1\n",
      "2.6197,0.0466,1\n",
      "0.4665,0.8661,0\n",
      "0.0373,3.6561,0\n",
      "0.2293,2.0309,0\n",
      "0.5631,2.5447,0\n",
      "0.5950,4.1608,0\n",
      "-0.5676,2.1974,0\n",
      "1.1846,2.8574,0\n",
      "2.1784,2.3691,0\n",
      "4.1787,0.4801,1\n",
      "1.1091,4.6122,0\n",
      "4.0988,-0.0493,1\n",
      "0.7573,4.0883,0\n",
      "0.3364,3.1810,0\n",
      "1.2327,2.4239,0\n",
      "4.2378,0.6607,1\n",
      "2.1532,3.3307,0\n",
      "3.9836,1.6695,1\n",
      "1.3760,1.3515,0\n",
      "1.7649,1.1644,1\n",
      "3.8238,1.6773,1\n",
      "3.4800,0.5409,1\n",
      "-0.2677,2.3574,0\n",
      "2.7829,0.6680,1\n",
      "3.1366,1.3509,1\n",
      "1.5625,2.7581,0\n",
      "-0.1790,2.5469,0\n",
      "3.3162,-1.0207,1\n",
      "1.0549,3.2796,0\n",
      "3.6050,2.6642,1\n",
      "4.3172,0.5038,1\n",
      "1.1089,4.2752,0\n",
      "0.3687,2.6155,0\n",
      "2.9965,0.8163,1\n",
      "0.8730,2.2413,0\n",
      "0.7622,3.1642,0\n",
      "0.9254,2.4387,0\n",
      "2.2420,-0.4378,1\n",
      "1.6758,0.4621,1\n",
      "1.7375,3.8013,0\n",
      "1.2406,4.3432,0\n",
      "3.9022,2.0997,1\n",
      "2.5183,5.1259,0\n",
      "2.3996,1.3296,0\n",
      "3.8127,1.1230,1\n",
      "2.1049,1.3117,0\n",
      "2.0236,1.4753,1\n",
      "1.0121,2.7318,0\n",
      "4.1966,2.5834,1\n",
      "2.0828,1.8761,0\n",
      "0.6523,4.1108,0\n",
      "2.9202,0.2707,1\n",
      "2.7588,-0.1672,1\n",
      "2.6658,1.0737,1\n",
      "3.6834,0.4736,1\n",
      "0.6546,4.0742,0\n",
      "2.9469,1.1786,1\n",
      "1.5356,1.6210,0\n",
      "0.7269,3.3217,0\n",
      "1.6782,1.8592,0\n",
      "4.1723,0.7034,1\n",
      "1.0280,2.8483,0\n",
      "2.9438,0.4854,1\n",
      "3.2698,0.0141,1\n",
      "2.2825,3.7080,0\n",
      "2.6162,1.3450,1\n",
      "1.6933,0.6971,1\n",
      "2.3549,1.9106,1\n",
      "3.4319,1.7997,1\n",
      "1.8667,2.0147,0\n",
      "3.3216,0.2713,1\n",
      "2.4702,2.2323,1\n",
      "0.9754,3.8858,0\n",
      "2.1307,-0.1865,1\n",
      "1.2499,0.9351,1\n",
      "1.8984,3.9615,0\n",
      "2.8750,1.0731,1\n",
      "1.1439,1.5430,1\n",
      "3.4213,1.5378,1\n",
      "3.2389,0.5971,1\n",
      "1.7634,2.0352,0\n",
      "3.5662,0.2577,1\n",
      "0.6886,3.0995,0\n",
      "4.9630,0.3190,1\n",
      "1.5447,1.5825,1\n",
      "2.4475,0.9273,0\n",
      "1.4216,3.2997,0\n",
      "3.5024,1.2352,1\n",
      "0.6403,1.7517,0\n",
      "0.5053,3.0979,0\n",
      "0.7716,2.3866,0\n",
      "3.7268,1.3070,1\n",
      "2.9171,2.0160,1\n",
      "3.2121,0.8695,1\n",
      "1.1517,4.1518,0\n",
      "2.5333,1.2686,1\n",
      "2.7406,0.8907,1\n",
      "1.1404,2.0459,0\n",
      "4.1623,2.5428,1\n",
      "1.1313,3.8609,0\n",
      "2.3731,1.0115,1\n",
      "0.1098,2.4496,0\n",
      "4.6668,1.9302,1\n",
      "2.9346,1.2383,1\n",
      "0.9439,2.1566,0\n",
      "1.0211,2.7428,0\n",
      "1.3676,3.0274,0\n",
      "3.2560,0.6985,1\n",
      "3.1263,1.5559,1\n",
      "2.7501,1.3313,1\n",
      "1.4407,3.4208,0\n",
      "2.6830,0.4406,1\n",
      "1.3931,1.8849,0\n",
      "3.4755,1.8826,1\n",
      "3.7908,0.3358,1\n",
      "3.2951,2.2722,1\n",
      "1.8037,0.6851,1\n",
      "2.8073,0.7691,1\n",
      "-0.1080,3.6771,0\n",
      "0.3847,2.3149,0\n",
      "1.5712,3.9732,0\n",
      "1.0168,3.3960,0\n",
      "3.1370,0.5487,1\n",
      "3.8973,-0.0277,1\n",
      "-0.5505,3.5046,0\n",
      "-0.1660,2.9632,0\n",
      "0.8845,2.6996,0\n",
      "3.6997,2.2781,1\n",
      "-0.8280,3.2458,0\n",
      "1.2767,4.5543,0\n",
      "3.8231,1.0480,1\n",
      "2.3172,5.1520,0\n",
      "1.1407,4.9665,0\n",
      "4.2651,0.4062,1\n",
      "1.7263,3.0815,1\n",
      "2.4673,1.0720,1\n",
      "-0.3236,2.2383,0\n",
      "0.3430,2.2488,0\n",
      "1.2755,2.9153,0\n",
      "1.0716,2.6293,0\n",
      "1.9982,1.3216,1\n",
      "3.2732,-0.2737,1\n",
      "3.6878,1.4161,1\n",
      "0.5495,2.0977,0\n",
      "0.4633,0.6892,0\n",
      "0.6766,3.9474,0\n",
      "1.5008,1.6258,0\n",
      "0.5598,2.8144,0\n",
      "3.8816,2.1630,1\n",
      "0.8294,3.2431,0\n",
      "1.3973,4.9747,0\n",
      "1.3809,2.8143,0\n",
      "3.1439,0.8431,1\n",
      "3.5211,0.0348,1\n",
      "0.2711,3.0600,0\n",
      "0.7326,1.6695,0\n",
      "4.7302,1.7218,1\n",
      "0.3114,1.7023,0\n",
      "1.3355,4.7961,0\n",
      "1.6978,0.3221,1\n",
      "2.1590,0.6010,1\n",
      "2.2147,-0.0317,1\n",
      "1.9728,2.4251,0\n",
      "0.2146,2.9144,0\n",
      "3.7001,1.0331,1\n",
      "0.8375,1.1300,0\n",
      "-0.0332,2.6877,0\n",
      "0.2804,2.7902,0\n",
      "3.5944,1.7216,1\n",
      "1.1237,1.7655,0\n",
      "2.1002,2.4347,0\n",
      "1.9136,1.5416,1\n",
      "3.0103,1.2393,1\n",
      "4.0720,2.0463,1\n",
      "1.8760,-0.7896,1\n"
     ]
    }
   ],
   "source": [
    "for element in [1, 2, 3]:\n",
    "    print(element)\n",
    "for element in (1, 2, 3):\n",
    "    print(element)\n",
    "for key in {'one':1, 'two':2}:\n",
    "    print(key)\n",
    "for char in \"123\":\n",
    "    print(char)\n",
    "for line in open(\"gauss.csv\"):\n",
    "    print(line, end='')"
   ]
  },
  {
   "cell_type": "code",
   "execution_count": 56,
   "metadata": {},
   "outputs": [],
   "source": [
    "s = 'abcdefghijklmnopqrstuvwxyz1234567890'\n",
    "it = iter(s)"
   ]
  },
  {
   "cell_type": "code",
   "execution_count": 57,
   "metadata": {},
   "outputs": [
    {
     "data": {
      "text/plain": [
       "'1'"
      ]
     },
     "execution_count": 57,
     "metadata": {},
     "output_type": "execute_result"
    }
   ],
   "source": [
    "for i in range(26):\n",
    "    next(it)\n",
    "next(it)"
   ]
  },
  {
   "cell_type": "code",
   "execution_count": 58,
   "metadata": {},
   "outputs": [],
   "source": [
    "class Reverse:\n",
    "    def __init__(self, data) -> None:\n",
    "        self.data = data\n",
    "        self.index = len(data)\n",
    "    def __iter__(self):\n",
    "        return self\n",
    "    def __next__(self):\n",
    "        if self.index == 0:\n",
    "            raise StopIteration\n",
    "        self.index = self.index - 1\n",
    "        return self.data[self.index]"
   ]
  },
  {
   "cell_type": "code",
   "execution_count": 59,
   "metadata": {},
   "outputs": [
    {
     "name": "stdout",
     "output_type": "stream",
     "text": [
      "z\n",
      "y\n",
      "x\n"
     ]
    }
   ],
   "source": [
    "rev = Reverse('xyz')\n",
    "iter(rev)\n",
    "for char in rev:\n",
    "    print(char)"
   ]
  },
  {
   "cell_type": "code",
   "execution_count": 60,
   "metadata": {},
   "outputs": [],
   "source": [
    "def reverse(data):\n",
    "    for idx in range(len(data)-1, -1, -1):\n",
    "        yield data[idx]"
   ]
  },
  {
   "cell_type": "code",
   "execution_count": 61,
   "metadata": {},
   "outputs": [
    {
     "name": "stdout",
     "output_type": "stream",
     "text": [
      "z\n",
      "y\n",
      "x\n"
     ]
    }
   ],
   "source": [
    "for char in reverse('xyz'):\n",
    "    print(char)"
   ]
  },
  {
   "cell_type": "code",
   "execution_count": 62,
   "metadata": {},
   "outputs": [
    {
     "data": {
      "text/plain": [
       "285"
      ]
     },
     "execution_count": 62,
     "metadata": {},
     "output_type": "execute_result"
    }
   ],
   "source": [
    "sum(i*i for i in range(10))"
   ]
  },
  {
   "cell_type": "code",
   "execution_count": 63,
   "metadata": {},
   "outputs": [
    {
     "data": {
      "text/plain": [
       "260"
      ]
     },
     "execution_count": 63,
     "metadata": {},
     "output_type": "execute_result"
    }
   ],
   "source": [
    "xvec, yvec = [10, 20, 30], [7, 5, 3]\n",
    "sum(x*y for x,y in zip(xvec, yvec))"
   ]
  },
  {
   "cell_type": "markdown",
   "metadata": {},
   "source": [
    "## Multipling proccess"
   ]
  },
  {
   "cell_type": "code",
   "execution_count": 64,
   "metadata": {},
   "outputs": [],
   "source": [
    "import multiprocessing as mp"
   ]
  },
  {
   "cell_type": "code",
   "execution_count": 65,
   "metadata": {},
   "outputs": [
    {
     "name": "stdout",
     "output_type": "stream",
     "text": [
      "[1, 4, 9]\n"
     ]
    }
   ],
   "source": [
    "def f(x):\n",
    "    return x*x\n",
    "\n",
    "with mp.Pool(5) as p:\n",
    "    print(p.map(f, [1, 2, 3]))"
   ]
  },
  {
   "cell_type": "code",
   "execution_count": 66,
   "metadata": {},
   "outputs": [
    {
     "name": "stdout",
     "output_type": "stream",
     "text": [
      "hello jeff\n"
     ]
    }
   ],
   "source": [
    "def f(name):\n",
    "    print('hello', name)\n",
    "\n",
    "p = mp.Process(target=f, args=('jeff', ))\n",
    "p.start()\n",
    "p.join()"
   ]
  },
  {
   "cell_type": "code",
   "execution_count": 67,
   "metadata": {},
   "outputs": [
    {
     "name": "stdout",
     "output_type": "stream",
     "text": [
      "main line\n",
      "module name: __main__\n",
      "parent process: <built-in function getppid>\n",
      "process id: 236\n",
      "function f\n",
      "module name: __main__\n",
      "parent process: <built-in function getppid>\n",
      "process id: 1814\n",
      "hello Jeff\n"
     ]
    }
   ],
   "source": [
    "import os\n",
    "def info(title):\n",
    "    print(title)\n",
    "    print(\"module name:\", __name__)\n",
    "    print(\"parent process:\", os.getppid)\n",
    "    print(\"process id:\", os.getpid())\n",
    "\n",
    "def f(name):\n",
    "    info('function f')\n",
    "    print('hello', name)\n",
    "\n",
    "if __name__ == '__main__':\n",
    "    info('main line')\n",
    "    p = mp.Process(target=f, args=('Jeff', ))\n",
    "    p.start()\n",
    "    p.join()"
   ]
  },
  {
   "cell_type": "code",
   "execution_count": null,
   "metadata": {},
   "outputs": [],
   "source": []
  }
 ],
 "metadata": {
  "kernelspec": {
   "display_name": "Python 3",
   "language": "python",
   "name": "python3"
  },
  "language_info": {
   "codemirror_mode": {
    "name": "ipython",
    "version": 3
   },
   "file_extension": ".py",
   "mimetype": "text/x-python",
   "name": "python",
   "nbconvert_exporter": "python",
   "pygments_lexer": "ipython3",
   "version": "3.10.12"
  }
 },
 "nbformat": 4,
 "nbformat_minor": 2
}
